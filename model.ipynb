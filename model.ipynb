{
 "cells": [
  {
   "cell_type": "code",
   "execution_count": null,
   "metadata": {},
   "outputs": [],
   "source": [
    "%pip install gym-trading-env pandas numpy matplotlib stable_baselines3 'shimmy>=0.2.1'"
   ]
  },
  {
   "cell_type": "code",
   "execution_count": 1,
   "metadata": {},
   "outputs": [
    {
     "name": "stderr",
     "output_type": "stream",
     "text": [
      "2023-07-21 21:14:59.969991: I tensorflow/core/util/port.cc:110] oneDNN custom operations are on. You may see slightly different numerical results due to floating-point round-off errors from different computation orders. To turn them off, set the environment variable `TF_ENABLE_ONEDNN_OPTS=0`.\n",
      "2023-07-21 21:14:59.999053: I tensorflow/core/platform/cpu_feature_guard.cc:182] This TensorFlow binary is optimized to use available CPU instructions in performance-critical operations.\n",
      "To enable the following instructions: AVX2 AVX_VNNI FMA, in other operations, rebuild TensorFlow with the appropriate compiler flags.\n",
      "2023-07-21 21:15:00.545474: W tensorflow/compiler/tf2tensorrt/utils/py_utils.cc:38] TF-TRT Warning: Could not find TensorRT\n"
     ]
    }
   ],
   "source": [
    "import gym_trading_env\n",
    "\n",
    "import gymnasium as gym\n",
    "import pandas as pd\n",
    "from matplotlib import pyplot as plt\n",
    "\n",
    "from stable_baselines3 import DQN,A2C\n",
    "from stable_baselines3.common.vec_env import DummyVecEnv"
   ]
  },
  {
   "cell_type": "code",
   "execution_count": 4,
   "metadata": {},
   "outputs": [
    {
     "data": {
      "text/html": [
       "<div>\n",
       "<style scoped>\n",
       "    .dataframe tbody tr th:only-of-type {\n",
       "        vertical-align: middle;\n",
       "    }\n",
       "\n",
       "    .dataframe tbody tr th {\n",
       "        vertical-align: top;\n",
       "    }\n",
       "\n",
       "    .dataframe thead th {\n",
       "        text-align: right;\n",
       "    }\n",
       "</style>\n",
       "<table border=\"1\" class=\"dataframe\">\n",
       "  <thead>\n",
       "    <tr style=\"text-align: right;\">\n",
       "      <th></th>\n",
       "      <th>open</th>\n",
       "      <th>high</th>\n",
       "      <th>low</th>\n",
       "      <th>close</th>\n",
       "    </tr>\n",
       "    <tr>\n",
       "      <th>DatetimeIndex</th>\n",
       "      <th></th>\n",
       "      <th></th>\n",
       "      <th></th>\n",
       "      <th></th>\n",
       "    </tr>\n",
       "  </thead>\n",
       "  <tbody>\n",
       "    <tr>\n",
       "      <th>2013-01-22</th>\n",
       "      <td>6080.15</td>\n",
       "      <td>6101.30</td>\n",
       "      <td>6040.50</td>\n",
       "      <td>6048.50</td>\n",
       "    </tr>\n",
       "    <tr>\n",
       "      <th>2013-01-23</th>\n",
       "      <td>6052.85</td>\n",
       "      <td>6069.80</td>\n",
       "      <td>6021.15</td>\n",
       "      <td>6054.30</td>\n",
       "    </tr>\n",
       "    <tr>\n",
       "      <th>2013-01-24</th>\n",
       "      <td>6046.20</td>\n",
       "      <td>6065.30</td>\n",
       "      <td>6007.85</td>\n",
       "      <td>6019.35</td>\n",
       "    </tr>\n",
       "    <tr>\n",
       "      <th>2013-01-25</th>\n",
       "      <td>6024.50</td>\n",
       "      <td>6080.55</td>\n",
       "      <td>6014.45</td>\n",
       "      <td>6074.65</td>\n",
       "    </tr>\n",
       "    <tr>\n",
       "      <th>2013-01-28</th>\n",
       "      <td>6082.10</td>\n",
       "      <td>6088.40</td>\n",
       "      <td>6061.40</td>\n",
       "      <td>6074.80</td>\n",
       "    </tr>\n",
       "  </tbody>\n",
       "</table>\n",
       "</div>"
      ],
      "text/plain": [
       "                  open     high      low    close\n",
       "DatetimeIndex                                    \n",
       "2013-01-22     6080.15  6101.30  6040.50  6048.50\n",
       "2013-01-23     6052.85  6069.80  6021.15  6054.30\n",
       "2013-01-24     6046.20  6065.30  6007.85  6019.35\n",
       "2013-01-25     6024.50  6080.55  6014.45  6074.65\n",
       "2013-01-28     6082.10  6088.40  6061.40  6074.80"
      ]
     },
     "execution_count": 4,
     "metadata": {},
     "output_type": "execute_result"
    }
   ],
   "source": [
    "df = pd.read_csv('Data/NIFTY50.csv')\n",
    "df['DatetimeIndex'] = pd.to_datetime(df['DatetimeIndex'])\n",
    "df.set_index('DatetimeIndex', inplace=True)\n",
    "# df[\"feature_pct_change\"] = df[\"close\"].pct_change()\n",
    "# df[\"feature_high\"] = df[\"high\"] / df[\"close\"] - 1\n",
    "# df[\"feature_low\"] = df[\"low\"] / df[\"close\"] - 1\n",
    "# df.dropna(inplace= True)\n",
    "\n",
    "df.head()"
   ]
  },
  {
   "cell_type": "code",
   "execution_count": 5,
   "metadata": {},
   "outputs": [
    {
     "name": "stdout",
     "output_type": "stream",
     "text": [
      "Market Return : 94.06%   |   Portfolio Return : 51.59%   |   \n",
      "0.41602610769378656\n"
     ]
    }
   ],
   "source": [
    "env=gym.make('TradingEnv',df=df,verbose=1,name='NIFTY50',trading_fees = 0.01/100,borrow_interest_rate= 0.0003/100,windows=5)\n",
    "sum=0\n",
    "done, truncated = False, False\n",
    "observation, info = env.reset()\n",
    "while not done and not truncated:\n",
    "    # Pick a position by its index in your position list (=[-1, 0, 1])....usually something like : position_index = your_policy(observation)\n",
    "    position_index = env.action_space.sample() # At every timestep, pick a random position index from your position list (=[-1, 0, 1])\n",
    "    observation, reward, done, truncated, info = env.step(position_index)\n",
    "    sum+=reward\n",
    "    # if reward>0 :\n",
    "    #     sum+=reward\n",
    "    # else: \n",
    "    #     sum-=reward\n",
    "print(sum)\n",
    "\n",
    "# env.save_for_render\n",
    "# env.unwrapped.save_for_render(dir = \"render_logs\")"
   ]
  },
  {
   "cell_type": "code",
   "execution_count": 28,
   "metadata": {},
   "outputs": [
    {
     "name": "stdout",
     "output_type": "stream",
     "text": [
      "Using cpu device\n",
      "------------------------------------\n",
      "| time/                 |          |\n",
      "|    fps                | 1028     |\n",
      "|    iterations         | 100      |\n",
      "|    time_elapsed       | 0        |\n",
      "|    total_timesteps    | 500      |\n",
      "| train/                |          |\n",
      "|    entropy_loss       | -0.693   |\n",
      "|    explained_variance | -214     |\n",
      "|    learning_rate      | 0.0007   |\n",
      "|    n_updates          | 99       |\n",
      "|    policy_loss        | 0.0828   |\n",
      "|    value_loss         | 0.0185   |\n",
      "------------------------------------\n",
      "------------------------------------\n",
      "| time/                 |          |\n",
      "|    fps                | 914      |\n",
      "|    iterations         | 200      |\n",
      "|    time_elapsed       | 1        |\n",
      "|    total_timesteps    | 1000     |\n",
      "| train/                |          |\n",
      "|    entropy_loss       | -0.692   |\n",
      "|    explained_variance | -1.42    |\n",
      "|    learning_rate      | 0.0007   |\n",
      "|    n_updates          | 199      |\n",
      "|    policy_loss        | 0.00958  |\n",
      "|    value_loss         | 0.00023  |\n",
      "------------------------------------\n"
     ]
    },
    {
     "data": {
      "text/plain": [
       "<stable_baselines3.a2c.a2c.A2C at 0x7fd805b5b310>"
      ]
     },
     "execution_count": 28,
     "metadata": {},
     "output_type": "execute_result"
    }
   ],
   "source": [
    "def env_maker():\n",
    "    return gym.make('TradingEnv',df=df,verbose=1,name='NIFTY50',trading_fees = 0.01/100,borrow_interest_rate= 0.0003/100)\n",
    "\n",
    "# Create the environment using make_vec_env\n",
    "env = DummyVecEnv([env_maker])\n",
    "\n",
    "# Train the A2C model\n",
    "model = A2C('MlpPolicy', env, verbose=1)\n",
    "model.learn(total_timesteps=1000)"
   ]
  },
  {
   "cell_type": "code",
   "execution_count": 29,
   "metadata": {},
   "outputs": [],
   "source": [
    "df_test=pd.read_csv('Data/test_data.csv')\n",
    "df_test['DatetimeIndex'] = pd.to_datetime(df_test['DatetimeIndex'])\n",
    "df_test.set_index('DatetimeIndex', inplace=True)"
   ]
  },
  {
   "cell_type": "code",
   "execution_count": 44,
   "metadata": {},
   "outputs": [
    {
     "name": "stdout",
     "output_type": "stream",
     "text": [
      "Market Return : 18.91%   |   Portfolio Return : 13.45%   |   \n",
      "info {'idx': 247, 'step': 247, 'date': numpy.datetime64('2023-07-21T00:00:00.000000000'), 'position_index': array(1), 'position': 1, 'real_position': 1.0, 'data_high': 19887.4, 'data_close': 19745.0, 'data_low': 19700.0, 'data_open': 19800.45, 'portfolio_valuation': 1134.4643899994128, 'portfolio_distribution_asset': 0.057455780703945955, 'portfolio_distribution_fiat': 0, 'portfolio_distribution_borrowed_asset': 0, 'portfolio_distribution_borrowed_fiat': 0, 'portfolio_distribution_interest_asset': 0.0, 'portfolio_distribution_interest_fiat': 0.0, 'reward': -0.011788935034292816}\n"
     ]
    }
   ],
   "source": [
    "test_env=gym.make('TradingEnv',df=df_test,verbose=1,name='NIFTY50',trading_fees = 0.01/100,borrow_interest_rate= 0.0003/100)\n",
    "state,_=test_env.reset()\n",
    "truncated=0\n",
    "terminated=0\n",
    "while True:\n",
    "    action,_states=model.predict(state)\n",
    "    n_state,reward,truncated,terminated,info=test_env.step(action)\n",
    "    if truncated or terminated:\n",
    "        print(\"info\", info)\n",
    "        break\n"
   ]
  }
 ],
 "metadata": {
  "kernelspec": {
   "display_name": "gym-trading-env",
   "language": "python",
   "name": "python3"
  },
  "language_info": {
   "codemirror_mode": {
    "name": "ipython",
    "version": 3
   },
   "file_extension": ".py",
   "mimetype": "text/x-python",
   "name": "python",
   "nbconvert_exporter": "python",
   "pygments_lexer": "ipython3",
   "version": "3.9.16"
  },
  "orig_nbformat": 4
 },
 "nbformat": 4,
 "nbformat_minor": 2
}
