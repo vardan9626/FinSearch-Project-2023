{
 "cells": [
  {
   "cell_type": "code",
   "execution_count": null,
   "metadata": {},
   "outputs": [],
   "source": [
    "%pip install gym-trading-env pandas numpy matplotlib stable_baselines3 'shimmy>=0.2.1'"
   ]
  },
  {
   "cell_type": "code",
   "execution_count": null,
   "metadata": {},
   "outputs": [],
   "source": [
    "import gym_trading_env\n",
    "import gymnasium as gym\n",
    "import pandas as pd\n",
    "\n",
    "from stable_baselines3 import DQN\n",
    "from stable_baselines3.common.vec_env import DummyVecEnv"
   ]
  },
  {
   "cell_type": "code",
   "execution_count": null,
   "metadata": {},
   "outputs": [],
   "source": [
    "df = pd.read_csv('Data/NIFTY50.csv')\n",
    "df['DatetimeIndex'] = pd.to_datetime(df['DatetimeIndex'])\n",
    "df.set_index('DatetimeIndex', inplace=True)\n",
    "df[\"feature_pct_change\"] = df[\"close\"].pct_change()\n",
    "df[\"feature_high\"] = df[\"high\"] / df[\"close\"] - 1\n",
    "df[\"feature_low\"] = df[\"low\"] / df[\"close\"] - 1\n",
    "df.dropna(inplace= True)\n",
    "\n",
    "df.head()"
   ]
  },
  {
   "cell_type": "code",
   "execution_count": null,
   "metadata": {},
   "outputs": [],
   "source": [
    "env=gym.make('TradingEnv',df=df,verbose=1,name='NIFTY50',trading_fees = 0.01/100,borrow_interest_rate= 0.0003/100,windows=5)\n",
    "sum=0\n",
    "done, truncated = False, False\n",
    "observation, info = env.reset()\n",
    "while not done and not truncated:\n",
    "    # Pick a position by its index in your position list (=[-1, 0, 1])....usually something like : position_index = your_policy(observation)\n",
    "    position_index = env.action_space.sample() # At every timestep, pick a random position index from your position list (=[-1, 0, 1])\n",
    "    observation, reward, done, truncated, info = env.step(position_index)\n",
    "    sum+=reward\n",
    "    # if reward>0 :\n",
    "    #     sum+=reward\n",
    "    # else: \n",
    "    #     sum-=reward\n",
    "print(sum)\n",
    "\n",
    "# env.save_for_render\n",
    "# env.unwrapped.save_for_render(dir = \"render_logs\")"
   ]
  },
  {
   "cell_type": "code",
   "execution_count": null,
   "metadata": {},
   "outputs": [],
   "source": [
    "def env_maker():\n",
    "    return gym.make('TradingEnv',df=df,verbose=1,name='NIFTY50',trading_fees = 0.01/100,borrow_interest_rate= 0.0003/100)\n",
    "\n",
    "# Create the environment using make_vec_env\n",
    "env = DummyVecEnv([env_maker])\n",
    "\n",
    "# Train the A2C model\n",
    "model = DQN('MlpPolicy', env, verbose=1)\n",
    "model.learn(total_timesteps=100000)"
   ]
  }
 ],
 "metadata": {
  "kernelspec": {
   "display_name": "gym-trading-env",
   "language": "python",
   "name": "python3"
  },
  "language_info": {
   "codemirror_mode": {
    "name": "ipython",
    "version": 3
   },
   "file_extension": ".py",
   "mimetype": "text/x-python",
   "name": "python",
   "nbconvert_exporter": "python",
   "pygments_lexer": "ipython3",
   "version": "3.9.16"
  },
  "orig_nbformat": 4
 },
 "nbformat": 4,
 "nbformat_minor": 2
}
