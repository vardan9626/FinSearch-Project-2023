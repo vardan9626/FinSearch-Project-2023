{
 "cells": [
  {
   "cell_type": "code",
   "execution_count": null,
   "metadata": {},
   "outputs": [],
   "source": [
    "from TradingEnvironment import StockTrading as env\n",
    "import pandas as pd"
   ]
  },
  {
   "cell_type": "code",
   "execution_count": null,
   "metadata": {},
   "outputs": [],
   "source": [
    "df = pd.read_csv('data/NIFTY50.csv')\n",
    "my_env = env(df,5,(6,120))"
   ]
  },
  {
   "cell_type": "code",
   "execution_count": null,
   "metadata": {},
   "outputs": [],
   "source": [
    "obs,_=my_env.reset(100000,0,0)\n",
    "done=0\n",
    "while not done:\n",
    "    action=my_env.random_action()\n",
    "    obs,reward,done,info=my_env.step(action)\n",
    "    if done:\n",
    "        print(f\"Total Return: {my_env.percentageReturn()} %\")\n",
    "        my_env.render()"
   ]
  }
 ],
 "metadata": {
  "kernelspec": {
   "display_name": "built_from_scratch",
   "language": "python",
   "name": "python3"
  },
  "language_info": {
   "codemirror_mode": {
    "name": "ipython",
    "version": 3
   },
   "file_extension": ".py",
   "mimetype": "text/x-python",
   "name": "python",
   "nbconvert_exporter": "python",
   "pygments_lexer": "ipython3",
   "version": "3.9.16"
  },
  "orig_nbformat": 4
 },
 "nbformat": 4,
 "nbformat_minor": 2
}
